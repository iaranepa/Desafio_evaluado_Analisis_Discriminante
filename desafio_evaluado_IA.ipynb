{
 "cells": [
  {
   "cell_type": "code",
   "execution_count": 11,
   "metadata": {},
   "outputs": [],
   "source": [
    "import numpy as np\n",
    "import pandas as pd\n",
    "import matplotlib.pyplot as plt\n",
    "import seaborn as sns\n",
    "from sklearn.discriminant_analysis import LinearDiscriminantAnalysis, QuadraticDiscriminantAnalysis\n",
    "from sklearn.preprocessing import LabelEncoder, StandardScaler, LabelBinarizer\n",
    "from sklearn.model_selection import train_test_split, cross_val_score\n",
    "from sklearn.metrics import classification_report"
   ]
  },
  {
   "cell_type": "code",
   "execution_count": 12,
   "metadata": {},
   "outputs": [
    {
     "data": {
      "text/html": [
       "<div>\n",
       "<style scoped>\n",
       "    .dataframe tbody tr th:only-of-type {\n",
       "        vertical-align: middle;\n",
       "    }\n",
       "\n",
       "    .dataframe tbody tr th {\n",
       "        vertical-align: top;\n",
       "    }\n",
       "\n",
       "    .dataframe thead th {\n",
       "        text-align: right;\n",
       "    }\n",
       "</style>\n",
       "<table border=\"1\" class=\"dataframe\">\n",
       "  <thead>\n",
       "    <tr style=\"text-align: right;\">\n",
       "      <th></th>\n",
       "      <th>default</th>\n",
       "      <th>student</th>\n",
       "      <th>balance</th>\n",
       "      <th>income</th>\n",
       "    </tr>\n",
       "  </thead>\n",
       "  <tbody>\n",
       "    <tr>\n",
       "      <th>0</th>\n",
       "      <td>No</td>\n",
       "      <td>No</td>\n",
       "      <td>729.526495</td>\n",
       "      <td>44361.625074</td>\n",
       "    </tr>\n",
       "    <tr>\n",
       "      <th>1</th>\n",
       "      <td>No</td>\n",
       "      <td>Yes</td>\n",
       "      <td>817.180407</td>\n",
       "      <td>12106.134700</td>\n",
       "    </tr>\n",
       "    <tr>\n",
       "      <th>2</th>\n",
       "      <td>No</td>\n",
       "      <td>No</td>\n",
       "      <td>1073.549164</td>\n",
       "      <td>31767.138947</td>\n",
       "    </tr>\n",
       "    <tr>\n",
       "      <th>3</th>\n",
       "      <td>No</td>\n",
       "      <td>No</td>\n",
       "      <td>529.250605</td>\n",
       "      <td>35704.493935</td>\n",
       "    </tr>\n",
       "    <tr>\n",
       "      <th>4</th>\n",
       "      <td>No</td>\n",
       "      <td>No</td>\n",
       "      <td>785.655883</td>\n",
       "      <td>38463.495879</td>\n",
       "    </tr>\n",
       "  </tbody>\n",
       "</table>\n",
       "</div>"
      ],
      "text/plain": [
       "  default student      balance        income\n",
       "0      No      No   729.526495  44361.625074\n",
       "1      No     Yes   817.180407  12106.134700\n",
       "2      No      No  1073.549164  31767.138947\n",
       "3      No      No   529.250605  35704.493935\n",
       "4      No      No   785.655883  38463.495879"
      ]
     },
     "execution_count": 12,
     "metadata": {},
     "output_type": "execute_result"
    }
   ],
   "source": [
    "df = pd.read_csv('default_credit.csv').drop(columns='index')\n",
    "df.head()"
   ]
  },
  {
   "cell_type": "code",
   "execution_count": 13,
   "metadata": {},
   "outputs": [
    {
     "data": {
      "text/html": [
       "<div>\n",
       "<style scoped>\n",
       "    .dataframe tbody tr th:only-of-type {\n",
       "        vertical-align: middle;\n",
       "    }\n",
       "\n",
       "    .dataframe tbody tr th {\n",
       "        vertical-align: top;\n",
       "    }\n",
       "\n",
       "    .dataframe thead th {\n",
       "        text-align: right;\n",
       "    }\n",
       "</style>\n",
       "<table border=\"1\" class=\"dataframe\">\n",
       "  <thead>\n",
       "    <tr style=\"text-align: right;\">\n",
       "      <th></th>\n",
       "      <th>default</th>\n",
       "      <th>student</th>\n",
       "      <th>balance</th>\n",
       "      <th>income</th>\n",
       "    </tr>\n",
       "  </thead>\n",
       "  <tbody>\n",
       "    <tr>\n",
       "      <th>0</th>\n",
       "      <td>0</td>\n",
       "      <td>0</td>\n",
       "      <td>729.526495</td>\n",
       "      <td>44361.625074</td>\n",
       "    </tr>\n",
       "    <tr>\n",
       "      <th>1</th>\n",
       "      <td>0</td>\n",
       "      <td>1</td>\n",
       "      <td>817.180407</td>\n",
       "      <td>12106.134700</td>\n",
       "    </tr>\n",
       "    <tr>\n",
       "      <th>2</th>\n",
       "      <td>0</td>\n",
       "      <td>0</td>\n",
       "      <td>1073.549164</td>\n",
       "      <td>31767.138947</td>\n",
       "    </tr>\n",
       "    <tr>\n",
       "      <th>3</th>\n",
       "      <td>0</td>\n",
       "      <td>0</td>\n",
       "      <td>529.250605</td>\n",
       "      <td>35704.493935</td>\n",
       "    </tr>\n",
       "    <tr>\n",
       "      <th>4</th>\n",
       "      <td>0</td>\n",
       "      <td>0</td>\n",
       "      <td>785.655883</td>\n",
       "      <td>38463.495879</td>\n",
       "    </tr>\n",
       "  </tbody>\n",
       "</table>\n",
       "</div>"
      ],
      "text/plain": [
       "   default  student      balance        income\n",
       "0        0        0   729.526495  44361.625074\n",
       "1        0        1   817.180407  12106.134700\n",
       "2        0        0  1073.549164  31767.138947\n",
       "3        0        0   529.250605  35704.493935\n",
       "4        0        0   785.655883  38463.495879"
      ]
     },
     "execution_count": 13,
     "metadata": {},
     "output_type": "execute_result"
    }
   ],
   "source": [
    "df['default'] = LabelEncoder().fit_transform(df['default'])\n",
    "df['student'] = LabelEncoder().fit_transform(df['student'])\n",
    "df.head()"
   ]
  },
  {
   "cell_type": "code",
   "execution_count": 14,
   "metadata": {},
   "outputs": [
    {
     "data": {
      "text/plain": [
       "0    7056\n",
       "1    2944\n",
       "Name: student, dtype: int64"
      ]
     },
     "execution_count": 14,
     "metadata": {},
     "output_type": "execute_result"
    }
   ],
   "source": [
    "df['student'].value_counts()"
   ]
  },
  {
   "attachments": {},
   "cell_type": "markdown",
   "metadata": {},
   "source": [
    "Modelo Base"
   ]
  },
  {
   "cell_type": "code",
   "execution_count": 16,
   "metadata": {},
   "outputs": [
    {
     "name": "stdout",
     "output_type": "stream",
     "text": [
      "              precision    recall  f1-score   support\n",
      "\n",
      "           0       0.98      1.00      0.99      3198\n",
      "           1       0.87      0.25      0.39       102\n",
      "\n",
      "    accuracy                           0.98      3300\n",
      "   macro avg       0.92      0.63      0.69      3300\n",
      "weighted avg       0.97      0.98      0.97      3300\n",
      "\n"
     ]
    }
   ],
   "source": [
    "X_train, X_test, y_train, y_test = train_test_split(df.drop('default',axis=1),df['default'],test_size=.33,random_state=1789)\n",
    "\n",
    "model_lda=LinearDiscriminantAnalysis().fit(X_train,y_train)\n",
    "predicted_y= model_lda.predict(X_test)\n",
    "print(classification_report(y_test, predicted_y))\n"
   ]
  },
  {
   "attachments": {},
   "cell_type": "markdown",
   "metadata": {},
   "source": [
    "Para la clase '0' se observa que los verdaderos positivos se encontraron en su mayoria. No obstante para la clase '1' tambien el nivel de precision fue alto. \n",
    "\n",
    "En el caso de Recall, el total de verdaderos positivos se detectaron en un 100% para la clase '0'. Para la clase '1' la mayoria resultaron ser considerados falsos negativos. Por lo que el modleo no tuvo un buen desempeno en esta clase.\n",
    "\n",
    "De acuerdo al f1-score se observa que para la clase '1' el modelo LDA no tiene buena predicion."
   ]
  },
  {
   "attachments": {},
   "cell_type": "markdown",
   "metadata": {},
   "source": [
    "Refactorizacion con informacion a priori"
   ]
  },
  {
   "cell_type": "code",
   "execution_count": 21,
   "metadata": {},
   "outputs": [
    {
     "name": "stdout",
     "output_type": "stream",
     "text": [
      "              precision    recall  f1-score   support\n",
      "\n",
      "           0       1.00      0.85      0.92      3198\n",
      "           1       0.16      0.88      0.27       102\n",
      "\n",
      "    accuracy                           0.85      3300\n",
      "   macro avg       0.58      0.87      0.59      3300\n",
      "weighted avg       0.97      0.85      0.90      3300\n",
      "\n"
     ]
    }
   ],
   "source": [
    "#Cambio del hiperparametro priori\n",
    "\n",
    "model_lda_50_50= LinearDiscriminantAnalysis(priors=[0.5,0.5]).fit(X_train,y_train)\n",
    "predicted_y= model_lda_50_50.predict(X_test)\n",
    "print(classification_report(y_test, predicted_y))"
   ]
  },
  {
   "cell_type": "code",
   "execution_count": 31,
   "metadata": {},
   "outputs": [
    {
     "name": "stdout",
     "output_type": "stream",
     "text": [
      "              precision    recall  f1-score   support\n",
      "\n",
      "           0       0.99      0.89      0.94      3198\n",
      "           1       0.20      0.84      0.32       102\n",
      "\n",
      "    accuracy                           0.89      3300\n",
      "   macro avg       0.59      0.87      0.63      3300\n",
      "weighted avg       0.97      0.89      0.92      3300\n",
      "\n"
     ]
    }
   ],
   "source": [
    "model_lda_60_40= LinearDiscriminantAnalysis(priors=[0.6,0.4]).fit(X_train,y_train)\n",
    "predicted_y= model_lda_60_40.predict(X_test)\n",
    "print(classification_report(y_test, predicted_y))"
   ]
  },
  {
   "attachments": {},
   "cell_type": "markdown",
   "metadata": {},
   "source": [
    "Modelo 50-50: Para la clase '0'  los valores de precision, recall son similares. Teniendo muy buen desempeno. La deteccion de true positive frente a false positive mejora frente al modelo original(precision).\n",
    "El recall para la clase '0' baja, lo que indica que al cambiar las probabilidades no se logran identificar todos los true positives.\n",
    "\n",
    "Para la clase '1' el recall mejora considerablemente, pero la precision baja mucho. Esto indica que este nuevo modelo falla en encontrar demasiados '1' que corresponden ser '0'. Pero encuentra la mayoria de los '1' que si son.\n",
    "\n",
    "\n",
    "\n",
    "Modelo 60-40: Este modelo se parece al modleo 50-50, dado que para '0' baja el recall y la precision es  casi total. Para la clase '1' la precision sigue siendo muy baja y el recall sube bastante."
   ]
  },
  {
   "attachments": {},
   "cell_type": "markdown",
   "metadata": {},
   "source": [
    "Refactorizacion Oversampling"
   ]
  },
  {
   "cell_type": "code",
   "execution_count": 29,
   "metadata": {},
   "outputs": [
    {
     "name": "stdout",
     "output_type": "stream",
     "text": [
      "              precision    recall  f1-score   support\n",
      "\n",
      "           0       1.00      0.88      0.93      3198\n",
      "           1       0.19      0.87      0.31       102\n",
      "\n",
      "    accuracy                           0.88      3300\n",
      "   macro avg       0.59      0.88      0.62      3300\n",
      "weighted avg       0.97      0.88      0.91      3300\n",
      "\n"
     ]
    }
   ],
   "source": [
    "from imblearn.over_sampling import SMOTE\n",
    "# Instanciamos la clase\n",
    "oversampler = SMOTE(random_state=11238)\n",
    "# generamos el eversampling de la matriz de entrenamiento y\n",
    "X_train_oversamp, y_train_oversamp = oversampler.fit_resample(X_train,\n",
    "y_train)\n",
    "\n",
    "model_lda_oversampling= LinearDiscriminantAnalysis(priors=[0.6,0.4]).fit(X_train_oversamp,y_train_oversamp)\n",
    "predicted_y= model_lda_oversampling.predict(X_test)\n",
    "print(classification_report(y_test, predicted_y))\n",
    "\n"
   ]
  },
  {
   "attachments": {},
   "cell_type": "markdown",
   "metadata": {},
   "source": [
    "Al efectuar oversampling, su desempeno se asemeja al incluir informacion a priori. Teniendo desempenos similares a los modelos previos.\n",
    "\n"
   ]
  },
  {
   "attachments": {},
   "cell_type": "markdown",
   "metadata": {},
   "source": [
    "Refactorizacion 3 QDA(Quadratic Discrimination Model)"
   ]
  },
  {
   "cell_type": "code",
   "execution_count": 30,
   "metadata": {},
   "outputs": [
    {
     "name": "stdout",
     "output_type": "stream",
     "text": [
      "              precision    recall  f1-score   support\n",
      "\n",
      "           0       0.98      1.00      0.99      3198\n",
      "           1       0.82      0.30      0.44       102\n",
      "\n",
      "    accuracy                           0.98      3300\n",
      "   macro avg       0.90      0.65      0.72      3300\n",
      "weighted avg       0.97      0.98      0.97      3300\n",
      "\n"
     ]
    }
   ],
   "source": [
    "model_qda=QuadraticDiscriminantAnalysis().fit(X_train,y_train)\n",
    "predicted_y= model_qda.predict(X_test)\n",
    "print(classification_report(y_test, predicted_y))"
   ]
  },
  {
   "attachments": {},
   "cell_type": "markdown",
   "metadata": {},
   "source": [
    "En cada uno de los modelos vistos, siempre existe alguna metrica con valores bastante bajos que no indican un m=bue desempeno del modelo en esa metrica.\n",
    "En general el analisis discriminante lineal y cuadrarico logra predecir bien valores futuros para la clase 0, pero la clase 1, tiene bajo el recall o la precision. Considerando el promedio que se obtiene por el f1-score, el cual es mas alto para la clase 1 en relacion a los otros modelos, se podria decir que el QDA es el mejor."
   ]
  }
 ],
 "metadata": {
  "kernelspec": {
   "display_name": "Python 3",
   "language": "python",
   "name": "python3"
  },
  "language_info": {
   "codemirror_mode": {
    "name": "ipython",
    "version": 3
   },
   "file_extension": ".py",
   "mimetype": "text/x-python",
   "name": "python",
   "nbconvert_exporter": "python",
   "pygments_lexer": "ipython3",
   "version": "3.11.1"
  },
  "orig_nbformat": 4
 },
 "nbformat": 4,
 "nbformat_minor": 2
}
